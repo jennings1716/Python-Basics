{
 "cells": [
  {
   "cell_type": "code",
   "execution_count": 1,
   "metadata": {},
   "outputs": [],
   "source": [
    "import tkinter\n"
   ]
  },
  {
   "cell_type": "code",
   "execution_count": 2,
   "metadata": {},
   "outputs": [],
   "source": [
    "from tkinter import *\n",
    "root = Tk()\n",
    "w = Label(root, text=\"Hello, world!\")\n",
    "w.pack()\n",
    "root.mainloop()"
   ]
  },
  {
   "cell_type": "markdown",
   "metadata": {},
   "source": [
    "Frame is an EMPTY WINDOW (Container)\n",
    "\n",
    "Frame contains the Tk object\n",
    "\n",
    "All widges are added to that Frame\n"
   ]
  },
  {
   "cell_type": "code",
   "execution_count": 3,
   "metadata": {},
   "outputs": [],
   "source": [
    "class App:\n",
    "    def __init__(self, master):\n",
    "        frame = Frame(master)#creates an empty window(Frame)\n",
    "        frame.pack()\n",
    "\n",
    "root = Tk()\n",
    "app = App(root)\n",
    "root.mainloop()"
   ]
  },
  {
   "cell_type": "code",
   "execution_count": 4,
   "metadata": {},
   "outputs": [
    {
     "name": "stdout",
     "output_type": "stream",
     "text": [
      "hi there, everyone!\n",
      "hi there, everyone!\n",
      "hi there, everyone!\n"
     ]
    }
   ],
   "source": [
    "class App:\n",
    "    def __init__(self, master):\n",
    "        frame = Frame(master)\n",
    "        frame.pack()\n",
    "        \n",
    "        self.hi_there = Button(frame, text=\"Hello\", command=self.say_hi)\n",
    "        self.hi_there.pack(side=LEFT)\n",
    "\n",
    "    def say_hi(self):\n",
    "        print (\"hi there, everyone!\")\n",
    "\n",
    "root = Tk()\n",
    "app = App(root)\n",
    "root.mainloop()"
   ]
  },
  {
   "cell_type": "markdown",
   "metadata": {},
   "source": [
    "## Tkinter supports the following widget classes"
   ]
  },
  {
   "cell_type": "code",
   "execution_count": 35,
   "metadata": {},
   "outputs": [
    {
     "name": "stdout",
     "output_type": "stream",
     "text": [
      "hi there, everyone!\n"
     ]
    }
   ],
   "source": [
    "## Button\n",
    "class App:\n",
    "    def __init__(self, master):\n",
    "        frame = Frame(master)\n",
    "        frame.pack()\n",
    "        \n",
    "        self.hi_there = Button(frame, text=\"Hello\",command=self.say_hi)\n",
    "        #icon = PhotoImage(file=\"sign-check-icon.png\")\n",
    "        #self.hi_there.config(image=icon,compound=RIGHT)\n",
    "        self.hi_there.pack(side=LEFT)\n",
    "\n",
    "    def say_hi(self):\n",
    "        print (\"hi there, everyone!\")\n",
    "\n",
    "root = Tk()\n",
    "app = App(root)\n",
    "root.mainloop()"
   ]
  },
  {
   "cell_type": "code",
   "execution_count": 37,
   "metadata": {},
   "outputs": [],
   "source": [
    "#The Canvas widget provides structured graphics facilities for Tkinter.\n",
    "#This is a highly versatile widget which can be used to draw graphs and plots, \n",
    "#create graphics editors, and implement various kinds of custom widgets.\n",
    "master = Tk()\n",
    "w = Canvas(master, width=200, height=100)\n",
    "w.pack()\n",
    "w.create_line(0, 0, 200, 100)\n",
    "w.create_line(0, 100, 200, 0, fill=\"red\", dash=(4, 4))\n",
    "w.create_rectangle(50, 25, 150, 75, fill=\"blue\")\n",
    "mainloop()"
   ]
  },
  {
   "cell_type": "code",
   "execution_count": 51,
   "metadata": {},
   "outputs": [
    {
     "name": "stdout",
     "output_type": "stream",
     "text": [
      "0\n"
     ]
    }
   ],
   "source": [
    "#The Checkbutton widget is a standard Tkinter widgets used to implement on-off selections\n",
    "master = Tk()\n",
    "var = IntVar()#string var\n",
    "c = Checkbutton(master, text=\"Expand\", variable=var)\n",
    "c.pack()\n",
    "print(var.get())\n",
    "mainloop()"
   ]
  },
  {
   "cell_type": "code",
   "execution_count": 52,
   "metadata": {},
   "outputs": [
    {
     "name": "stdout",
     "output_type": "stream",
     "text": [
      "\n"
     ]
    }
   ],
   "source": [
    "master = Tk()\n",
    "v = StringVar()\n",
    "e = Entry(master, textvariable=v)\n",
    "e.pack()\n",
    "#v.set(\"a default value\")\n",
    "s = v.get()\n",
    "print(s)"
   ]
  },
  {
   "cell_type": "code",
   "execution_count": null,
   "metadata": {},
   "outputs": [],
   "source": [
    "# A frame is rectangular region on the screen\n",
    "#Frame widgets are used to group other widgets into complex layouts. \n",
    "#They are also used for padding, and as a base class when implementing compound widgets.\n",
    "master = Tk()\n",
    "Label(text=\"one\").pack()\n",
    "separator = Frame(height=2, bd=1, relief=SUNKEN)\n",
    "separator.pack(fill=X, padx=5, pady=5)\n",
    "Label(text=\"two\").pack()\n",
    "mainloop()"
   ]
  },
  {
   "cell_type": "markdown",
   "metadata": {},
   "source": [
    "## Events and Bindings\n"
   ]
  },
  {
   "cell_type": "code",
   "execution_count": 12,
   "metadata": {},
   "outputs": [
    {
     "name": "stdout",
     "output_type": "stream",
     "text": [
      "words []\n",
      "jej\n",
      "clicked at 62 27\n",
      "'d'\n",
      "['1754774863752key']\n",
      "'s'\n",
      "['1754774863752key']\n"
     ]
    }
   ],
   "source": [
    "# Events can come from various sources, \n",
    "#including key presses and mouse operations by the user, and redraw events from the window manager\n",
    "\n",
    "def key(event):\n",
    "    click=repr(event.char)\n",
    "    print(click)\n",
    "    print(word)\n",
    "    return click\n",
    "        \n",
    "\n",
    "def callback(event):\n",
    "    frame.focus_set()\n",
    "    print(\"clicked at\", event.x, event.y)\n",
    "    \n",
    "if __name__==\"__main__\":\n",
    "    global word\n",
    "    word=[]\n",
    "    print(\"words\",word)\n",
    "    root = Tk()\n",
    "    frame = Frame(root, width=100, height=100)\n",
    "    frame.bind(\"<Key>\", key)\n",
    "    frame.bind(\"<Button-1>\", callback)\n",
    "    frame.pack()\n",
    "    root.mainloop()"
   ]
  },
  {
   "cell_type": "markdown",
   "metadata": {},
   "source": [
    "If you need to create additional windows, you can use the Toplevel widget. "
   ]
  },
  {
   "cell_type": "code",
   "execution_count": 5,
   "metadata": {},
   "outputs": [],
   "source": [
    "root = Tk()\n",
    "# create root window contents...\n",
    "#top = Toplevel()\n",
    "# create top window contents...\n",
    "root.mainloop()"
   ]
  },
  {
   "cell_type": "markdown",
   "metadata": {},
   "source": [
    "## Creating a small menu and menu Bar\n"
   ]
  },
  {
   "cell_type": "code",
   "execution_count": 16,
   "metadata": {},
   "outputs": [
    {
     "name": "stdout",
     "output_type": "stream",
     "text": [
      "called the callback!\n"
     ]
    }
   ],
   "source": [
    "def callback():\n",
    "    print(\"called the callback!\")\n",
    "\n",
    "root = Tk()\n",
    "# create a menu BAR\n",
    "menu = Menu(root) #creating an instance for Menu Class\n",
    "root.config(menu=menu)#Using CONFIG method attach it to the main window\n",
    "\n",
    "filemenu = Menu(menu)#using menu BAR as Parent\n",
    "menu.add_cascade(label=\"File\", menu=filemenu)#creates the pull down menu with name file\n",
    "filemenu.add_command(label=\"New\", command=callback)\n",
    "filemenu.add_command(label=\"Open...\", command=callback)\n",
    "filemenu.add_separator()\n",
    "filemenu.add_command(label=\"Exit\", command=callback)\n",
    "\n",
    "helpmenu = Menu(menu)#using menu BAR as Parent\n",
    "menu.add_cascade(label=\"Help\", menu=helpmenu)#creates another pull down menu with name file\n",
    "helpmenu.add_command(label=\"About...\", command=callback)\n",
    "\n",
    "mainloop()"
   ]
  },
  {
   "cell_type": "markdown",
   "metadata": {},
   "source": [
    "## Creating a Tool Bar"
   ]
  },
  {
   "cell_type": "markdown",
   "metadata": {},
   "source": [
    "Many applications place a toolbar just under the menubar,\n",
    "which typically contains a number of buttons for common functions like open file, print, undo, etc.\n",
    "\n",
    "To display an icon, you can use the PhotoImage constructor to load a small image from disk, \n",
    "and use the image option to display it."
   ]
  },
  {
   "cell_type": "code",
   "execution_count": 18,
   "metadata": {},
   "outputs": [
    {
     "name": "stdout",
     "output_type": "stream",
     "text": [
      "called the callback!\n",
      "called the callback!\n",
      "called the callback!\n",
      "called the callback!\n",
      "called the callback!\n",
      "called the callback!\n",
      "called the callback!\n"
     ]
    }
   ],
   "source": [
    "root = Tk()\n",
    "def callback():\n",
    "    print( \"called the callback!\")\n",
    "\n",
    "# create a toolbar\n",
    "toolbar = Frame(root)\n",
    "b = Button(toolbar, text=\"new\", width=6, command=callback)\n",
    "b.pack(side=LEFT, padx=2, pady=2)\n",
    "b = Button(toolbar, text=\"open\", width=6, command=callback)\n",
    "b.pack(side=LEFT, padx=2, pady=2)\n",
    "toolbar.pack(side=TOP, fill=X)\n",
    "mainloop()"
   ]
  },
  {
   "cell_type": "markdown",
   "metadata": {},
   "source": [
    "## Standard Dialogs"
   ]
  },
  {
   "cell_type": "markdown",
   "metadata": {},
   "source": [
    " Tk library provides a set of standard dialogs that can be used to display message boxes, and to select files and colors."
   ]
  },
  {
   "cell_type": "code",
   "execution_count": null,
   "metadata": {},
   "outputs": [],
   "source": [
    "#Message Boxes\n",
    "#The tkMessageBox module provides an interface to the message dialogs.\n",
    "#The easiest way to use this module is to use one of the convenience functions: \n",
    "#showinfo, showwarning, showerror, askquestion, askokcancel, askyesno, or askretrycancel. They all have the same syntax:\n",
    "\n",
    "tkMessageBox.function(title, message [, options])."
   ]
  },
  {
   "cell_type": "code",
   "execution_count": 24,
   "metadata": {},
   "outputs": [
    {
     "data": {
      "text/plain": [
       "''"
      ]
     },
     "execution_count": 24,
     "metadata": {},
     "output_type": "execute_result"
    }
   ],
   "source": [
    "from tkinter import messagebox\n",
    "messagebox.showwarning(\n",
    "            \"Open file\",\n",
    "            \"Cannot open this file\"\n",
    "        )"
   ]
  },
  {
   "cell_type": "markdown",
   "metadata": {},
   "source": [
    "Creating Custom windows"
   ]
  },
  {
   "cell_type": "code",
   "execution_count": 5,
   "metadata": {},
   "outputs": [
    {
     "name": "stdout",
     "output_type": "stream",
     "text": [
      "value is 1\n"
     ]
    }
   ],
   "source": [
    "#Just use the Toplevel widget,\n",
    "#stuff the necessary entry fields, buttons, and other widgets into it, and let the user take care of the rest. \n",
    "\n",
    "#It is more practical to handle dialogs in a synchronous fashion; \n",
    "#create the dialog, display it, wait for the user to close the dialog,\n",
    "#and then resume execution of your application. The WAIT_WINDOW method is exactly what we need;\n",
    "#it enters a local event loop, and doesn’t return until the given window is destroyed \n",
    "class MyDialog:\n",
    "\n",
    "    def __init__(self, parent):\n",
    "\n",
    "        top = self.top = Toplevel(parent)\n",
    "\n",
    "        Label(top, text=\"Value\").pack()\n",
    "\n",
    "        self.e = Entry(top)\n",
    "        self.e.pack(padx=5)\n",
    "\n",
    "        b = Button(top, text=\"OK\", command=self.ok)\n",
    "        b.pack(pady=5)\n",
    "\n",
    "    def ok(self):\n",
    "        print(\"value is\", self.e.get())\n",
    "        self.top.destroy()\n",
    "\n",
    "\n",
    "root = Tk()\n",
    "Button(root, text=\"Hello!\").pack()\n",
    "root.update()\n",
    "d = MyDialog(root)\n",
    "root.wait_window(d.top)\n"
   ]
  },
  {
   "cell_type": "raw",
   "metadata": {},
   "source": [
    "For more widgets\n",
    "http://effbot.org/tkinterbook/tkinter-classes.htm\n",
    "\n",
    "+tkinter.scrolledtext -- Text widget with a vertical scroll bar built in.\n",
    "tkinter.colorchooser -- Dialog to let the user choose a color.\n",
    "tkinter.commondialog -- Base class for the dialogs defined in the other modules listed here.\n",
    "tkinter.filedialog   -- Common dialogs to allow the user to specify a file to open or save.\n",
    "tkinter.font         -- Utilities to help work with fonts.\n",
    "tkinter.messagebox   -- Access to standard Tk dialog boxes.\n",
    "tkinter.simpledialog -- Basic dialogs and convenience functions.\n",
    "tkinter.dnd          -- Drag-and-drop support for tkinter. This is experimental and should become deprecated when it is replaced                         with the Tk DND.\n",
    "turtle               -- Turtle graphics in a Tk window."
   ]
  },
  {
   "cell_type": "code",
   "execution_count": 2,
   "metadata": {},
   "outputs": [
    {
     "name": "stdout",
     "output_type": "stream",
     "text": [
      "jennings\t\n",
      "12\n"
     ]
    }
   ],
   "source": [
    "import tkinter as tk\n",
    "\n",
    "class Application(tk.Frame):\n",
    "    def __init__(self, master=None):\n",
    "        super().__init__(master)\n",
    "        self.pack()\n",
    "        self.create_widgets()\n",
    "\n",
    "    def create_widgets(self):\n",
    "        self.hi_there = tk.Button(self)\n",
    "        self.hi_there[\"text\"] = \"Print\"\n",
    "        self.hi_there[\"command\"] = self.printing\n",
    "        self.hi_there['fg']=\"red\"\n",
    "        self.hi_there['bg']=\"blue\"\n",
    "        \n",
    "        self.label_name= tk.Label(self,text=\"Name\")\n",
    "        self.label_name.pack()\n",
    "        \n",
    "        self.name = tk.Text(self, width=10, height=1)\n",
    "        self.name.pack()\n",
    "        \n",
    "        self.label_age= tk.Label(self,text=\"Age\")\n",
    "        self.label_age.pack()\n",
    "        \n",
    "        self.age = tk.Text(self, width=10, height=1)\n",
    "        self.age.pack()\n",
    "        \n",
    "        self.hi_there.pack() # pack() method can be called with keyword-option/value pairs that\n",
    "                                       #control where the widget is to appear within its container\n",
    "        #self.quit.pack(side=\"bottom\")\n",
    "\n",
    "    def printing(self):\n",
    "        print(self.name.get(\"1.0\",'end-1c'))\n",
    "        print(self.age.get(\"1.0\",'end-1c'))\n",
    "root = tk.Tk()  #The Tk class is instantiated without arguments\n",
    "app = Application(master=root)\n",
    "app.mainloop()"
   ]
  },
  {
   "cell_type": "code",
   "execution_count": null,
   "metadata": {},
   "outputs": [],
   "source": []
  }
 ],
 "metadata": {
  "kernelspec": {
   "display_name": "Python 3",
   "language": "python",
   "name": "python3"
  },
  "language_info": {
   "codemirror_mode": {
    "name": "ipython",
    "version": 3
   },
   "file_extension": ".py",
   "mimetype": "text/x-python",
   "name": "python",
   "nbconvert_exporter": "python",
   "pygments_lexer": "ipython3",
   "version": "3.5.2"
  }
 },
 "nbformat": 4,
 "nbformat_minor": 2
}
