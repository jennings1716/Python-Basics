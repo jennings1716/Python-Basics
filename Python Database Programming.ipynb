{
 "cells": [
  {
   "cell_type": "markdown",
   "metadata": {},
   "source": [
    "# Python has bindings for many database systems including MySQL, Postregsql, Oracle, Microsoft SQL Server and Maria DB."
   ]
  },
  {
   "cell_type": "markdown",
   "metadata": {},
   "source": [
    "## SQLite Creation"
   ]
  },
  {
   "cell_type": "code",
   "execution_count": 16,
   "metadata": {},
   "outputs": [
    {
     "name": "stdout",
     "output_type": "stream",
     "text": [
      "SQLite version: 3.8.11\n"
     ]
    }
   ],
   "source": [
    "import sqlite3 as lite\n",
    "import sys\n",
    " \n",
    "conn = None\n",
    " \n",
    "try:\n",
    "    conn = lite.connect('test.db')#connected to a new database\n",
    "    cur = conn.cursor()    \n",
    "    cur.execute('SELECT SQLITE_VERSION()')# queries the database management system \n",
    "    data = cur.fetchone()\n",
    "    print( \"SQLite version: %s\" % data)                \n",
    "except e:   \n",
    "    print( \"Error %s:\" % e.args[0])\n",
    "    sys.exit(1)\n"
   ]
  },
  {
   "cell_type": "markdown",
   "metadata": {},
   "source": [
    "## SQL Create and Insert "
   ]
  },
  {
   "cell_type": "code",
   "execution_count": 17,
   "metadata": {},
   "outputs": [
    {
     "data": {
      "text/plain": [
       "<sqlite3.Cursor at 0x20406df0dc0>"
      ]
     },
     "execution_count": 17,
     "metadata": {},
     "output_type": "execute_result"
    }
   ],
   "source": [
    "cur.execute(\"CREATE TABLE Users(Id INT, Name TEXT)\")\n",
    "cur.execute(\"INSERT INTO Users VALUES(1,'Michelle')\")\n",
    "cur.execute(\"INSERT INTO Users VALUES(2,'Sonya')\")\n",
    "cur.execute(\"INSERT INTO Users VALUES(3,'Greg')\")"
   ]
  },
  {
   "cell_type": "markdown",
   "metadata": {},
   "source": [
    "## SQLite query data"
   ]
  },
  {
   "cell_type": "code",
   "execution_count": 18,
   "metadata": {},
   "outputs": [
    {
     "name": "stdout",
     "output_type": "stream",
     "text": [
      "(1, 'Michelle')\n",
      "(2, 'Sonya')\n",
      "(3, 'Greg')\n"
     ]
    }
   ],
   "source": [
    "cur.execute(\"SELECT * FROM Users\") \n",
    "rows = cur.fetchall()\n",
    "\n",
    "for row in rows:\n",
    "    print(row)"
   ]
  },
  {
   "cell_type": "markdown",
   "metadata": {},
   "source": [
    "## SQLite Delete data"
   ]
  },
  {
   "cell_type": "code",
   "execution_count": 19,
   "metadata": {},
   "outputs": [
    {
     "data": {
      "text/plain": [
       "<sqlite3.Cursor at 0x20406df0dc0>"
      ]
     },
     "execution_count": 19,
     "metadata": {},
     "output_type": "execute_result"
    }
   ],
   "source": [
    "cur.execute(\"DELETE FROM Users WHERE Id=2\") "
   ]
  },
  {
   "cell_type": "code",
   "execution_count": 20,
   "metadata": {},
   "outputs": [
    {
     "name": "stdout",
     "output_type": "stream",
     "text": [
      "(1, 'Michelle')\n",
      "(3, 'Greg')\n"
     ]
    }
   ],
   "source": [
    "cur.execute(\"SELECT * FROM Users\") \n",
    "rows = cur.fetchall()\n",
    "\n",
    "for row in rows:\n",
    "    print(row)"
   ]
  },
  {
   "cell_type": "markdown",
   "metadata": {},
   "source": [
    "## MySQL Database"
   ]
  },
  {
   "cell_type": "code",
   "execution_count": 26,
   "metadata": {},
   "outputs": [],
   "source": [
    "import MySQLdb\n",
    " \n",
    "db = MySQLdb.connect(host=\"localhost\",  # your host \n",
    "                     user=\"root\",       # username\n",
    "                     passwd=\"Sonofgod1!\",     # password\n",
    "                     db=\"pythonspot\")\n",
    "cur = db.cursor() #create a cursor"
   ]
  },
  {
   "cell_type": "markdown",
   "metadata": {},
   "source": [
    "##  Create Table"
   ]
  },
  {
   "cell_type": "code",
   "execution_count": 27,
   "metadata": {},
   "outputs": [
    {
     "data": {
      "text/plain": [
       "0"
      ]
     },
     "execution_count": 27,
     "metadata": {},
     "output_type": "execute_result"
    }
   ],
   "source": [
    "cur.execute(\"CREATE TABLE IF NOT EXISTS sample ( id int(11) NOT NULL AUTO_INCREMENT,description varchar(45),PRIMARY KEY (id))\")"
   ]
  },
  {
   "cell_type": "markdown",
   "metadata": {},
   "source": [
    "## Insert Table"
   ]
  },
  {
   "cell_type": "code",
   "execution_count": 35,
   "metadata": {},
   "outputs": [
    {
     "data": {
      "text/plain": [
       "1"
      ]
     },
     "execution_count": 35,
     "metadata": {},
     "output_type": "execute_result"
    }
   ],
   "source": [
    "cur.execute(\"INSERT INTO sample(description) VALUES ('Hello World')\")\n",
    "cur.execute(\"INSERT INTO sample(description) VALUES ('Hiiii')\")\n",
    "cur.execute(\"INSERT INTO sample(description) VALUES ('go out')\")\n"
   ]
  },
  {
   "cell_type": "markdown",
   "metadata": {},
   "source": [
    "## Query Table"
   ]
  },
  {
   "cell_type": "code",
   "execution_count": 36,
   "metadata": {},
   "outputs": [
    {
     "name": "stdout",
     "output_type": "stream",
     "text": [
      "1   Hello World\n",
      "2   Hello World\n",
      "3   Hiiii\n",
      "4   go out\n"
     ]
    }
   ],
   "source": [
    "# Select data from table using SQL query.\n",
    "cur.execute(\"SELECT * FROM sample\")\n",
    " \n",
    "# print the first and second columns      \n",
    "for row in cur.fetchall() :\n",
    "    print (row[0], \" \", row[1])\n"
   ]
  },
  {
   "cell_type": "markdown",
   "metadata": {},
   "source": [
    "## Delete Table"
   ]
  },
  {
   "cell_type": "code",
   "execution_count": 37,
   "metadata": {},
   "outputs": [
    {
     "data": {
      "text/plain": [
       "1"
      ]
     },
     "execution_count": 37,
     "metadata": {},
     "output_type": "execute_result"
    }
   ],
   "source": [
    "cur.execute(\"DELETE FROM sample WHERE id=2\") "
   ]
  },
  {
   "cell_type": "code",
   "execution_count": 38,
   "metadata": {},
   "outputs": [
    {
     "name": "stdout",
     "output_type": "stream",
     "text": [
      "1   Hello World\n",
      "3   Hiiii\n",
      "4   go out\n"
     ]
    }
   ],
   "source": [
    "# Select data from table using SQL query.\n",
    "cur.execute(\"SELECT * FROM sample\")\n",
    " \n",
    "# print the first and second columns      \n",
    "for row in cur.fetchall() :\n",
    "    print (row[0], \" \", row[1])"
   ]
  },
  {
   "cell_type": "code",
   "execution_count": null,
   "metadata": {},
   "outputs": [],
   "source": []
  }
 ],
 "metadata": {
  "kernelspec": {
   "display_name": "Python 3",
   "language": "python",
   "name": "python3"
  },
  "language_info": {
   "codemirror_mode": {
    "name": "ipython",
    "version": 3
   },
   "file_extension": ".py",
   "mimetype": "text/x-python",
   "name": "python",
   "nbconvert_exporter": "python",
   "pygments_lexer": "ipython3",
   "version": "3.5.2"
  }
 },
 "nbformat": 4,
 "nbformat_minor": 2
}
