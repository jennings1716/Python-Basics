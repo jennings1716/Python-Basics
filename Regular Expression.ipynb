{
 "cells": [
  {
   "cell_type": "code",
   "execution_count": 2,
   "metadata": {},
   "outputs": [],
   "source": [
    "##'''\n",
    "##Identifiers\n",
    "##\\d - any NUMBER\n",
    "##\\D anything but a Number\n",
    "##\\s space\n",
    "##\\S anything but a space\n",
    "##\\w any character\n",
    "##\\W anything but a character\n",
    "##.  any character, except a newline\n",
    "##\\b the whitespace around words\n",
    "##\\. a period\n",
    "##\n",
    "##Modifiers:\n",
    "##{1,3} we are expecting 1-3 \\d{1-3}\n",
    "##+ Match 1 or More\n",
    "##? Match 0 or 1\n",
    "##* Match 0 or More\n",
    "##$ Match the end of the string\n",
    "##^ match the beginning of a string\n",
    "##| either or\n",
    "##[] range or \"variance\"[A-Za-z][1-5]\n",
    "##{x} expecting \"x\" amount\n",
    "##\n",
    "##White Space Characters:\n",
    "##\\n new line\n",
    "##\\s space\n",
    "##\\t tab\n",
    "##\\e escapte\n",
    "##\\f form feed\n",
    "##\\r return\n",
    "##\n",
    "##\n",
    "##DONT FORGET !!!\n",
    "##\n",
    "##. + * "
   ]
  },
  {
   "cell_type": "code",
   "execution_count": 202,
   "metadata": {},
   "outputs": [],
   "source": [
    "import re\n",
    "test=\"My name is Jennings. My age is 23. My Date of Birth is 17-JAN-1996. My email id is jennings@gmail.com.\""
   ]
  },
  {
   "cell_type": "code",
   "execution_count": 17,
   "metadata": {},
   "outputs": [],
   "source": [
    "com=re.compile(\"\\w*@\\w*\\.com\")"
   ]
  },
  {
   "cell_type": "code",
   "execution_count": 28,
   "metadata": {},
   "outputs": [],
   "source": [
    "email=com.findall(test)\n",
    "#email=str(email)"
   ]
  },
  {
   "cell_type": "code",
   "execution_count": 29,
   "metadata": {},
   "outputs": [],
   "source": [
    "#name= email.split('@')"
   ]
  },
  {
   "cell_type": "code",
   "execution_count": 33,
   "metadata": {},
   "outputs": [
    {
     "name": "stdout",
     "output_type": "stream",
     "text": [
      "jennings\n"
     ]
    }
   ],
   "source": [
    "print(email[0].split('@')[0])"
   ]
  },
  {
   "cell_type": "code",
   "execution_count": 34,
   "metadata": {},
   "outputs": [],
   "source": [
    "dob=re.compile('\\d*-\\w*-\\w*')"
   ]
  },
  {
   "cell_type": "code",
   "execution_count": 35,
   "metadata": {},
   "outputs": [],
   "source": [
    "date=dob.findall(test)"
   ]
  },
  {
   "cell_type": "code",
   "execution_count": 36,
   "metadata": {},
   "outputs": [
    {
     "name": "stdout",
     "output_type": "stream",
     "text": [
      "['17-JAN-1996']\n"
     ]
    }
   ],
   "source": [
    "print(date)"
   ]
  },
  {
   "cell_type": "code",
   "execution_count": 37,
   "metadata": {},
   "outputs": [],
   "source": [
    "test1 = \"abbabababb\""
   ]
  },
  {
   "cell_type": "code",
   "execution_count": 39,
   "metadata": {},
   "outputs": [],
   "source": [
    "pat=re.compile('ab*')"
   ]
  },
  {
   "cell_type": "code",
   "execution_count": 41,
   "metadata": {},
   "outputs": [],
   "source": [
    "val=pat.findall(test1)"
   ]
  },
  {
   "cell_type": "code",
   "execution_count": 42,
   "metadata": {},
   "outputs": [
    {
     "name": "stdout",
     "output_type": "stream",
     "text": [
      "['abb', 'ab', 'ab', 'abb']\n"
     ]
    }
   ],
   "source": [
    "print(val)"
   ]
  },
  {
   "cell_type": "code",
   "execution_count": 43,
   "metadata": {},
   "outputs": [
    {
     "name": "stdout",
     "output_type": "stream",
     "text": [
      "['On ', 'th Jan 2016, at 11:02 AM']\n",
      "['', 'y, ', 'oy oh ', 'oy, ', 'om', ' h', 'r', '']\n",
      "['A', 'y, Boy oh ', 'oy, ', 'om', ' h', 'r', '']\n"
     ]
    }
   ],
   "source": [
    "from re import split\n",
    "print(re.split('\\d+', 'On 12th Jan 2016, at 11:02 AM', 1))\n",
    " \n",
    "# 'Boy' and 'boy' will be treated same when flags = re.IGNORECASE\n",
    "print(re.split('[a-f]+', 'Aey, Boy oh boy, come here', flags = re.IGNORECASE))\n",
    "print(re.split('[a-f]+', 'Aey, Boy oh boy, come here'))\n"
   ]
  },
  {
   "cell_type": "code",
   "execution_count": 47,
   "metadata": {},
   "outputs": [
    {
     "name": "stdout",
     "output_type": "stream",
     "text": [
      "S~*ject has ~*er booked already\n"
     ]
    }
   ],
   "source": [
    "print(re.sub('ub', '~*' , 'Subject has Uber booked already', flags = re.IGNORECASE))"
   ]
  },
  {
   "cell_type": "code",
   "execution_count": 50,
   "metadata": {},
   "outputs": [
    {
     "name": "stdout",
     "output_type": "stream",
     "text": [
      "('S~*ject has ~*er booked already', 2)\n"
     ]
    }
   ],
   "source": [
    "print(re.subn('ub', '~*' , 'Subject has Uber booked already', flags = re.IGNORECASE))"
   ]
  },
  {
   "cell_type": "code",
   "execution_count": 46,
   "metadata": {},
   "outputs": [
    {
     "name": "stdout",
     "output_type": "stream",
     "text": [
      "I\\ Asked\\ what\\ is\\ this\\ \\[a\\-9\\]\\,\\ he\\ said\\ \\\t\\ \\^WoW\n"
     ]
    }
   ],
   "source": [
    "print(re.escape(\"I Asked what is this [a-9], he said \\t ^WoW\"))\n",
    "#places \\ before all metacharacters"
   ]
  },
  {
   "cell_type": "code",
   "execution_count": 71,
   "metadata": {},
   "outputs": [],
   "source": [
    "#1  to check that a string contains only a certain set of characters (in this case a-z, A-Z and 0-9)\n",
    "pat = re.compile('[a-zA-Z0-9]*')\n"
   ]
  },
  {
   "cell_type": "code",
   "execution_count": 72,
   "metadata": {},
   "outputs": [],
   "source": [
    "test=\"My name is Jennings. My age is 23. My Date of Birth is 17-JAN-1996. My email id is jennings@gmail.com.\""
   ]
  },
  {
   "cell_type": "code",
   "execution_count": 73,
   "metadata": {},
   "outputs": [],
   "source": [
    "result= pat.findall(test)"
   ]
  },
  {
   "cell_type": "code",
   "execution_count": 82,
   "metadata": {},
   "outputs": [
    {
     "name": "stdout",
     "output_type": "stream",
     "text": [
      "['My', 'name', 'is', 'Jennings', 'My', 'age', 'is', '23', 'My', 'Date', 'of', 'Birth', 'is', '17', 'JAN', '1996', 'My', 'email', 'id', 'is', 'jennings', 'gmail', 'com']\n"
     ]
    }
   ],
   "source": [
    "print([i  for i in result if i!=''])"
   ]
  },
  {
   "cell_type": "code",
   "execution_count": 12,
   "metadata": {},
   "outputs": [],
   "source": [
    "#2. Write a Python program that matches a string that has an a followed by zero or more b's.\n",
    "test = 'abjennings abbis aacurious about aholiness in light '\n",
    "pat = re.compile('a{1}b*[a-z]*')"
   ]
  },
  {
   "cell_type": "code",
   "execution_count": 13,
   "metadata": {},
   "outputs": [
    {
     "name": "stdout",
     "output_type": "stream",
     "text": [
      "['abjennings', 'abbis', 'aacurious', 'about', 'aholiness']\n"
     ]
    }
   ],
   "source": [
    "result= pat.findall(test)\n",
    "print(result)"
   ]
  },
  {
   "cell_type": "code",
   "execution_count": 14,
   "metadata": {},
   "outputs": [
    {
     "name": "stdout",
     "output_type": "stream",
     "text": [
      "['about']\n"
     ]
    }
   ],
   "source": [
    "#3. Write a Python program that matches a string that has an a followed by one or more b's.\n",
    "test=\"bjennings is bbbcurious about bUniversal atruth \"\n",
    "pat = re.compile('a{1}b+[a-z]*')\n",
    "result = pat.findall(test)\n",
    "print(result)\n"
   ]
  },
  {
   "cell_type": "code",
   "execution_count": 17,
   "metadata": {},
   "outputs": [
    {
     "name": "stdout",
     "output_type": "stream",
     "text": [
      "['abjennings', 'abbbcurious', 'about', 'atholic']\n"
     ]
    }
   ],
   "source": [
    "#4. Write a Python program that matches a string that has an a followed by zero or one 'b'.\n",
    "test=\"abjennings is abbbcurious about Universe\"\n",
    "pat = re.compile('ab*[a-z]*')\n",
    "result = pat.findall(test)\n",
    "print(result)\n",
    "\n"
   ]
  },
  {
   "cell_type": "code",
   "execution_count": 19,
   "metadata": {},
   "outputs": [
    {
     "name": "stdout",
     "output_type": "stream",
     "text": [
      "['abbbcurious']\n"
     ]
    }
   ],
   "source": [
    "#Write a Python program that matches a string that has an a followed by three 'b'.\n",
    "test=\"abjennings is abbbcurious about World\"\n",
    "pat = re.compile('ab{3}[a-z]*')\n",
    "result = pat.findall(test)\n",
    "print(result)\n"
   ]
  },
  {
   "cell_type": "code",
   "execution_count": 21,
   "metadata": {},
   "outputs": [
    {
     "name": "stdout",
     "output_type": "stream",
     "text": [
      "['aabbbout']\n"
     ]
    }
   ],
   "source": [
    "#6. Write a Python program that matches a string that has an a followed by two to three 'b'. \n",
    "test=\"abjennings is abbbcurious aabbbout Universe\"\n",
    "pat = re.compile('a{2}b{3}[a-z]*')\n",
    "result = pat.findall(test)\n",
    "print(result)"
   ]
  },
  {
   "cell_type": "code",
   "execution_count": 30,
   "metadata": {},
   "outputs": [
    {
     "name": "stdout",
     "output_type": "stream",
     "text": [
      "['abjennings_', 'sacs_', 'abbbcurious_', 'aabbbout_']\n"
     ]
    }
   ],
   "source": [
    "#7. Write a Python program to find sequences of lowercase letters joined with a underscore. \n",
    "test=\"abjennings_ Isacs_ abbbcurious_ aabbbout_ Universe\"\n",
    "pat = re.compile('[a-z]+_')\n",
    "result = pat.findall(test)\n",
    "print(result)"
   ]
  },
  {
   "cell_type": "code",
   "execution_count": 33,
   "metadata": {},
   "outputs": [
    {
     "name": "stdout",
     "output_type": "stream",
     "text": [
      "['Isacs', 'Abbcurious', 'Universe']\n"
     ]
    }
   ],
   "source": [
    "#8. Write a Python program to find sequences of one upper case letter followed by lower case letters.\n",
    "test=\"abjennings_ Isacs_ Abbcurious aabbbout_ Universe\"\n",
    "pat = re.compile('[A-Z]{1}[a-z]+')\n",
    "result = pat.findall(test)\n",
    "print(result)"
   ]
  },
  {
   "cell_type": "code",
   "execution_count": 50,
   "metadata": {},
   "outputs": [
    {
     "name": "stdout",
     "output_type": "stream",
     "text": [
      "['abjennings_b', 'aabbbout_b']\n"
     ]
    }
   ],
   "source": [
    "#9. Write a Python program that matches a string that has an 'a' followed by anything, ending in 'b'. \n",
    "test=\"abjennings_b Isacs_ Abbcurious aabbbout_b Universe\"\n",
    "pat = re.compile('a[\\S]*b')\n",
    "result = pat.findall(test)\n",
    "print(result)\n"
   ]
  },
  {
   "cell_type": "code",
   "execution_count": 54,
   "metadata": {},
   "outputs": [
    {
     "name": "stdout",
     "output_type": "stream",
     "text": [
      "[' abjennings_b Isacs_ Abbcurious aabbbout_b Universe ']\n"
     ]
    }
   ],
   "source": [
    "#10. Write a Python program that matches a word at the beginning of a string.\n",
    "test=\" abjennings_b Isacs_ Abbcurious aabbbout_b Universe \"\n",
    "pat = re.compile('\\s.*\\s')\n",
    "result = pat.findall(test)\n",
    "print(result)"
   ]
  },
  {
   "cell_type": "code",
   "execution_count": 57,
   "metadata": {},
   "outputs": [
    {
     "name": "stdout",
     "output_type": "stream",
     "text": [
      "['Universe.']\n"
     ]
    }
   ],
   "source": [
    "#11. Write a Python program that matches a word at end of string, with optional punctuation\n",
    "test=\" abjennings_b Isacs_ Abbcurious aabbbout_b Universe.\"\n",
    "pat = re.compile('[A-Z]*[a-z]*\\.')\n",
    "result = pat.findall(test)\n",
    "print(result)"
   ]
  },
  {
   "cell_type": "code",
   "execution_count": 63,
   "metadata": {},
   "outputs": [
    {
     "name": "stdout",
     "output_type": "stream",
     "text": [
      "['abjennings_bz', 'Abbczurious', 'zaabbbout_b', 'Univerzzse']\n"
     ]
    }
   ],
   "source": [
    "#12. Write a Python program that matches a word containing 'z'. \n",
    "test=\" abjennings_bz Isacs_ Abbczurious zaabbbout_b Univerzzse.\"\n",
    "pat = re.compile('\\w*z\\w*')\n",
    "result = pat.findall(test)\n",
    "print(result)\n"
   ]
  },
  {
   "cell_type": "code",
   "execution_count": 93,
   "metadata": {},
   "outputs": [
    {
     "name": "stdout",
     "output_type": "stream",
     "text": [
      "['abjenncings_bz', ' Isacs_', ' cbbczurious']\n"
     ]
    }
   ],
   "source": [
    "#13. Write a Python program that matches a word containing 'z', not start or end of the word. \n",
    "test=\"cabjenncings_bz  Isacs_  cbbczurious  zaabbbout_b  Univerzzse.\"\n",
    "pat = re.compile('[^c][\\w]+c+[^c][\\w]+')\n",
    "result = pat.findall(test)\n",
    "print(result)"
   ]
  },
  {
   "cell_type": "code",
   "execution_count": 95,
   "metadata": {},
   "outputs": [
    {
     "name": "stdout",
     "output_type": "stream",
     "text": [
      "['cabjenncings_bz', 'Isacs_', 'cbbczurious', 'zaabbbout_b', 'Univerzzse']\n"
     ]
    }
   ],
   "source": [
    "#14. Write a Python program to match a string that contains only upper and lowercase letters, numbers, and underscores.\n",
    "test=\"cabjenncings_bz  Isacs_  cbbczurious  zaabbbout_b  Univerzzse ++--.\"\n",
    "pat = re.compile('[\\w\\d_]+')\n",
    "result = pat.findall(test)\n",
    "print(result)"
   ]
  },
  {
   "cell_type": "code",
   "execution_count": 103,
   "metadata": {},
   "outputs": [
    {
     "name": "stdout",
     "output_type": "stream",
     "text": [
      "['12cabjenncings_bz', '1Isacs_']\n"
     ]
    }
   ],
   "source": [
    "#15. Write a Python program where a string will start with a specific number.\n",
    "test=\"12cabjenncings_bz  1Isacs_  cbbczurious  zaabbbout_b  Univerzzse ++--.\"\n",
    "pat = re.compile('[0-9]+[\\w]+')\n",
    "result = pat.findall(test)\n",
    "print(result)"
   ]
  },
  {
   "cell_type": "code",
   "execution_count": null,
   "metadata": {},
   "outputs": [],
   "source": [
    "#16. Write a Python program to remove leading zeros from an IP address. \n"
   ]
  },
  {
   "cell_type": "code",
   "execution_count": 107,
   "metadata": {},
   "outputs": [
    {
     "name": "stdout",
     "output_type": "stream",
     "text": [
      "['cabjenncings_bz12', 'cbbczurious3', 'zaabbbout_b2']\n"
     ]
    }
   ],
   "source": [
    "#17. Write a Python program to check for a number at the end of a string\n",
    "test=\"cabjenncings_bz12  1Isacs_  cbbczurious3  zaabbbout_b2  Univerzzse ++--.\"\n",
    "pat = re.compile('[\\w]+[\\d]+')\n",
    "result = pat.findall(test)\n",
    "print(result)"
   ]
  },
  {
   "cell_type": "code",
   "execution_count": 125,
   "metadata": {},
   "outputs": [
    {
     "name": "stdout",
     "output_type": "stream",
     "text": [
      "[]\n"
     ]
    }
   ],
   "source": [
    "#18. Write a Python program to search the numbers (0-9) of length between 1 to 3 in a given string.\n",
    "test=\"jen123jen\"\n",
    "pat = re.compile('\\w*[0-9]{1-3}\\w*')\n",
    "result = pat.findall(test)\n",
    "print(result)"
   ]
  },
  {
   "cell_type": "code",
   "execution_count": 132,
   "metadata": {},
   "outputs": [
    {
     "name": "stdout",
     "output_type": "stream",
     "text": [
      "found\n"
     ]
    }
   ],
   "source": [
    "#19. Write a Python program to search some literals strings in a string. Go to the editor\n",
    "#Sample text : 'The quick brown fox jumps over the lazy dog.'\n",
    "#Searched words : 'fox', 'dog', 'horse'\n",
    "test=\"The quick brown fox jumps over the lazy dog.\"\n",
    "pat = 'fox'\n",
    "result = re.search(pat,test)\n",
    "if result:\n",
    "    print(\"found\")"
   ]
  },
  {
   "cell_type": "code",
   "execution_count": 133,
   "metadata": {},
   "outputs": [
    {
     "name": "stdout",
     "output_type": "stream",
     "text": [
      "Found \"fox\" in \"The quick brown fox jumps over the lazy dog.\" from 16 to 19 \n"
     ]
    }
   ],
   "source": [
    "#20. Write a Python program to search a literals \n",
    "#string in a string and also find the location within the original string where the pattern occurs\n",
    "pattern = 'fox'\n",
    "text = 'The quick brown fox jumps over the lazy dog.'\n",
    "match = re.search(pattern, text)\n",
    "s = match.start()\n",
    "e = match.end()\n",
    "print('Found \"%s\" in \"%s\" from %d to %d ' % \\\n",
    "    (match.re.pattern, match.string, s, e))"
   ]
  },
  {
   "cell_type": "code",
   "execution_count": 137,
   "metadata": {},
   "outputs": [
    {
     "name": "stdout",
     "output_type": "stream",
     "text": [
      "['brownfox', 'lazyfox']\n"
     ]
    }
   ],
   "source": [
    "#21. Write a Python program to find the substrings within a string.\n",
    "pattern = '\\w*fox'\n",
    "text = 'The quick brownfox jumps over the lazyfox.'\n",
    "match = re.findall(pattern, text)\n",
    "print(match)"
   ]
  },
  {
   "cell_type": "code",
   "execution_count": 142,
   "metadata": {},
   "outputs": [
    {
     "name": "stdout",
     "output_type": "stream",
     "text": [
      "Found \"fox\" at 15:18\n",
      "Found \"fox\" at 38:41\n"
     ]
    }
   ],
   "source": [
    "#22. Write a Python program to find the occurrence and position of the substrings within a string.\n",
    "pattern = 'fox'\n",
    "text = 'The quick brownfox jumps over the lazyfox.'\n",
    "\n",
    "for match in re.finditer(pattern, text):\n",
    "    s = match.start()\n",
    "    e = match.end()\n",
    "    print('Found \"%s\" at %d:%d' % (text[s:e], s, e))"
   ]
  },
  {
   "cell_type": "code",
   "execution_count": 144,
   "metadata": {},
   "outputs": [
    {
     "name": "stdout",
     "output_type": "stream",
     "text": [
      "Jennings_Mc_Enroe_goes_to_home_next_week\n",
      "Jennings Mc Enroe goes to home next week\n"
     ]
    }
   ],
   "source": [
    "#23. Write a Python program to replace whitespaces with an underscore and vice versa.\n",
    "text = 'Jennings Mc Enroe goes to home next week'\n",
    "text =text.replace (\" \", \"_\")\n",
    "print(text)\n",
    "text =text.replace (\"_\", \" \")\n",
    "print(text)"
   ]
  },
  {
   "cell_type": "code",
   "execution_count": null,
   "metadata": {},
   "outputs": [],
   "source": [
    "#[] denotes a character class. () denotes a capturing group.\n",
    "\n",
    "#[a-z0-9] -- One character that is in the range of a-z OR 0-9\n",
    "\n",
    "#(a-z0-9) -- Explicit capture of a-z0-9. No ranges."
   ]
  },
  {
   "cell_type": "code",
   "execution_count": 148,
   "metadata": {},
   "outputs": [
    {
     "name": "stdout",
     "output_type": "stream",
     "text": [
      "[('2016', '09', '02')]\n"
     ]
    }
   ],
   "source": [
    "#24. Write a Python program to extract year, month and date from a an url. \n",
    "url= \"https://www.washingtonpost.com/news/football-insider/wp/2016/09/02/odell-beckhams-fame-rests-on-one-stupid-little-ball-josh-norman-tells-author/\"\n",
    "match = re.findall(r'/(\\d{4})/(\\d{1,2})/(\\d{1,2})/', url)\n",
    "print(match)"
   ]
  },
  {
   "cell_type": "code",
   "execution_count": 154,
   "metadata": {},
   "outputs": [
    {
     "name": "stdout",
     "output_type": "stream",
     "text": [
      "01-12-2016\n"
     ]
    }
   ],
   "source": [
    "#25. Write a Python program to convert a date of yyyy-mm-dd format to dd-mm-yyyy format.\n",
    "data='2016-12-01'\n",
    "pat = re.compile('(\\d{4})-(\\d{2})-(\\d{2})')\n",
    "match = pat.findall(data)\n",
    "date = match[0]\n",
    "data = date[2]+'-'+date[1]+'-'+date[0]\n",
    "print(data)"
   ]
  },
  {
   "cell_type": "code",
   "execution_count": 155,
   "metadata": {},
   "outputs": [
    {
     "name": "stdout",
     "output_type": "stream",
     "text": [
      "('Python', 'PHP')\n"
     ]
    }
   ],
   "source": [
    "#26. Write a Python program to match if two words from a list of words starting with letter 'P'. \n",
    "words = [\"Python PHP\", \"Java JavaScript\", \"c c++\"]\n",
    "\n",
    "for w in words:\n",
    "        m = re.match(\"(P\\w+)\\W(P\\w+)\", w)\n",
    "        # Check for success\n",
    "        if m:\n",
    "            print(m.groups())"
   ]
  },
  {
   "cell_type": "code",
   "execution_count": 157,
   "metadata": {},
   "outputs": [
    {
     "name": "stdout",
     "output_type": "stream",
     "text": [
      "10\n",
      "20\n",
      "30\n"
     ]
    }
   ],
   "source": [
    "#27. Write a Python program to separate and print the numbers of a given string.\n",
    "text = \"Ten 10, Twenty 20, Thirty 30\"\n",
    "result = re.findall(\"\\d+\", text)\n",
    "# Print results.\n",
    "for element in result:\n",
    "    print(element)"
   ]
  },
  {
   "cell_type": "code",
   "execution_count": 171,
   "metadata": {},
   "outputs": [
    {
     "name": "stdout",
     "output_type": "stream",
     "text": [
      "['elephant', 'eats', 'an', 'apple', 'est']\n"
     ]
    }
   ],
   "source": [
    "#28. Write a Python program to find all words starting with 'a' or 'e' in a given string.\n",
    "string = \"elephant eats an apple in the forest\"\n",
    "match = re.findall('[ae]\\w+',string)\n",
    "print(match)"
   ]
  },
  {
   "cell_type": "code",
   "execution_count": 183,
   "metadata": {},
   "outputs": [
    {
     "name": "stdout",
     "output_type": "stream",
     "text": [
      "Number :10 Starts :4 Ends :6\n",
      "Number :20 Starts :15 Ends :17\n",
      "Number :30 Starts :26 Ends :28\n"
     ]
    }
   ],
   "source": [
    "#29. Write a Python program to separate and print the numbers and their position of a given string. \n",
    "text = \"Ten 10, Twenty 20, Thirty 30\"\n",
    "result = re.finditer(\"\\d+\", text)\n",
    "# Print results.\n",
    "for element in result:\n",
    "    s= element.start()\n",
    "    e = element.end()\n",
    "    print(\"Number :\"+text[s:e]+\" Starts :\"+str(s)+\" Ends :\"+str(e))"
   ]
  },
  {
   "cell_type": "code",
   "execution_count": 184,
   "metadata": {},
   "outputs": [
    {
     "name": "stdout",
     "output_type": "stream",
     "text": [
      "21 Ramkrishna Rd.\n"
     ]
    }
   ],
   "source": [
    "#30. Write a Python program to abbreviate 'Road' as 'Rd.' in a given string. \n",
    "street = '21 Ramkrishna Road'\n",
    "print(re.sub('Road', 'Rd.', street))"
   ]
  },
  {
   "cell_type": "code",
   "execution_count": 185,
   "metadata": {},
   "outputs": [
    {
     "name": "stdout",
     "output_type": "stream",
     "text": [
      "Python:Exercises::PHP:exercises:\n"
     ]
    }
   ],
   "source": [
    "#31. Write a Python program to replace all occurrences of space, comma, or dot with a colon.\n",
    "text = 'Python Exercises, PHP exercises.'\n",
    "print(re.sub(\"[ ,.]\", \":\", text))"
   ]
  },
  {
   "cell_type": "code",
   "execution_count": 186,
   "metadata": {},
   "outputs": [
    {
     "name": "stdout",
     "output_type": "stream",
     "text": [
      "Python:Exercises: PHP exercises.\n"
     ]
    }
   ],
   "source": [
    "#32. Write a Python program to replace maximum 2 occurrences of space, comma, or dot with a colon. \n",
    "text = 'Python Exercises, PHP exercises.'\n",
    "print(re.sub(\"[ ,.]\", \":\", text,2))"
   ]
  },
  {
   "cell_type": "code",
   "execution_count": 190,
   "metadata": {},
   "outputs": [
    {
     "name": "stdout",
     "output_type": "stream",
     "text": [
      "[' apple ']\n"
     ]
    }
   ],
   "source": [
    "#33. Write a Python program to find all five characters long word in a string.\n",
    "string = \"elephant eats an apple in the forest\"\n",
    "match = re.findall('\\s[A-z]{5}\\s',string)\n",
    "print(match)"
   ]
  },
  {
   "cell_type": "code",
   "execution_count": 196,
   "metadata": {},
   "outputs": [
    {
     "name": "stdout",
     "output_type": "stream",
     "text": [
      "[' eats ', ' apple ', ' the ']\n"
     ]
    }
   ],
   "source": [
    "#34. Write a Python program to find all three, four, five characters long words in a string. \n",
    "string = \"elephant eats an apple in the forest\"\n",
    "match = re.findall('\\s\\w{3,5}\\s',string)\n",
    "print(match)"
   ]
  },
  {
   "cell_type": "code",
   "execution_count": 201,
   "metadata": {},
   "outputs": [
    {
     "name": "stdout",
     "output_type": "stream",
     "text": [
      "[' elephant ', ' apple ', ' forest ']\n"
     ]
    }
   ],
   "source": [
    "#35. Write a Python program to find all words which are at least 4 characters long in a string.\n",
    "string = \" elephant eats an apple in the forest \"\n",
    "match = re.findall('\\s\\w{4,}\\s',string)\n",
    "print(match)"
   ]
  },
  {
   "cell_type": "code",
   "execution_count": null,
   "metadata": {},
   "outputs": [],
   "source": []
  },
  {
   "cell_type": "code",
   "execution_count": null,
   "metadata": {},
   "outputs": [],
   "source": []
  }
 ],
 "metadata": {
  "kernelspec": {
   "display_name": "Python 3",
   "language": "python",
   "name": "python3"
  },
  "language_info": {
   "codemirror_mode": {
    "name": "ipython",
    "version": 3
   },
   "file_extension": ".py",
   "mimetype": "text/x-python",
   "name": "python",
   "nbconvert_exporter": "python",
   "pygments_lexer": "ipython3",
   "version": "3.5.2"
  }
 },
 "nbformat": 4,
 "nbformat_minor": 2
}
